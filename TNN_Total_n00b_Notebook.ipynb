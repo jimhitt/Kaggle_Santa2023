{
 "cells": [
  {
   "cell_type": "markdown",
   "metadata": {},
   "source": [
    "# TNN: Total n00b Notebook\n",
    "\n",
    "I have a very limited understanding of this challenge (other than knowing what a Rubik’s Cube is), but it seems very interesting. I have no hopes of making it high on the leaderboard, but it seems worthwhile to learn more about the techniques involved in the challenge.\n",
    "\n",
    "Because I assume that other people are in my situation, I am working with ChatGPT to better understand the nature of the challenge. \n",
    "\n",
    "The first step in my journey is taking the **very simple** puzzle from the \"getting started\" notebook and creating some visuals to better understand the move steps.\n",
    "\n",
    "I am a Physician and Data Science hobbyist, so I am using GPT and Copilot to help with writing code. But the ideas in this notebook are my own.\n"
   ]
  },
  {
   "cell_type": "code",
   "execution_count": 2,
   "metadata": {},
   "outputs": [],
   "source": [
    "import numpy as np\n",
    "import pandas as pd\n",
    "from ast import literal_eval\n",
    "from pathlib import Path\n",
    "from pprint import pprint\n",
    "from sympy.combinatorics import Permutation\n",
    "\n",
    "# Here is a very simple puzzle\n",
    "solution_state = ['R', 'G', 'B']\n",
    "initial_state = ['B', 'G', 'R']\n",
    "moves = {\n",
    "    'r': [1, 2, 0],\n",
    "    's': [1, 0, 2],\n",
    "}\n",
    "r = moves['r']\n",
    "s = moves['s']"
   ]
  },
  {
   "cell_type": "markdown",
   "metadata": {},
   "source": [
    "This is a function that plots the current state of the 3 element puzzle"
   ]
  },
  {
   "cell_type": "code",
   "execution_count": 14,
   "metadata": {},
   "outputs": [],
   "source": [
    "import matplotlib.pyplot as plt\n",
    "import matplotlib.patches as patches\n",
    "\n",
    "def plot_state_squares(state, title, scale=0.75):\n",
    "    \"\"\"\n",
    "    Plot a state of the puzzle with each element represented as a true square.\n",
    "    \n",
    "    :param state: List of color initials (e.g., ['R', 'G', 'B'])\n",
    "    :param title: Title of the plot\n",
    "    :param scale: Scale factor for the size of squares (default is 0.75)\n",
    "    \"\"\"\n",
    "    color_map = {'R': 'red', 'G': 'green', 'B': 'blue'}\n",
    "    fig_size = len(state) * scale\n",
    "    fig, ax = plt.subplots(figsize=(fig_size, scale))\n",
    "\n",
    "    # Calculate the offset and size of each square based on the scale factor\n",
    "    offset = (1 - scale) / 2\n",
    "    size = scale\n",
    "\n",
    "    # Create a true square for each element in the state\n",
    "    for i, color_initial in enumerate(state):\n",
    "        color = color_map.get(color_initial, 'white')  # Default to white if unknown color\n",
    "        rect = patches.Rectangle((i + offset, offset), size, size, linewidth=1, edgecolor='black', facecolor=color)\n",
    "        ax.add_patch(rect)\n",
    "\n",
    "    # Setting the limits and removing the axes for clarity\n",
    "    ax.set_xlim(0, len(state))\n",
    "    ax.set_ylim(0, 1)\n",
    "    ax.set_aspect('equal')  # Ensuring squares are displayed as true squares\n",
    "    ax.axis('off')\n",
    "    ax.set_title(title)\n",
    "\n",
    "    plt.show()\n"
   ]
  },
  {
   "cell_type": "markdown",
   "metadata": {},
   "source": [
    "### Look at what the 2 moves, \"r\" and \"s\", do to the puzzle\n",
    "\n",
    "```\n",
    "moves = {\n",
    "    'r': [1, 2, 0],\n",
    "    's': [1, 0, 2],\n",
    "}\n",
    "```\n",
    "- ```r``` effectively rotates the color of the squares, moving each square rightwards in a circular manner.\n",
    "- ```s``` swaps the position of the first 2 squares and leaves the 3rd unchanged\n",
    "\n",
    "Initially, I am just manipulating the state using a list comprehension.\n"
   ]
  },
  {
   "cell_type": "code",
   "execution_count": 15,
   "metadata": {},
   "outputs": [
    {
     "name": "stdout",
     "output_type": "stream",
     "text": [
      "['G', 'R', 'B']\n",
      "['R', 'B', 'G']\n",
      "['B', 'G', 'R']\n"
     ]
    },
    {
     "data": {
      "image/png": "[encoded data removed]",
      "text/plain": [
       "<Figure size 225x75 with 1 Axes>"
      ]
     },
     "metadata": {},
     "output_type": "display_data"
    },
    {
     "data": {
      "image/png": "[encoded data removed]",
      "text/plain": [
       "<Figure size 225x75 with 1 Axes>"
      ]
     },
     "metadata": {},
     "output_type": "display_data"
    },
    {
     "data": {
      "image/png": "[encoded data removed]",
      "text/plain": [
       "<Figure size 225x75 with 1 Axes>"
      ]
     },
     "metadata": {},
     "output_type": "display_data"
    },
    {
     "data": {
      "image/png": "[encoded data removed]",
      "text/plain": [
       "<Figure size 225x75 with 1 Axes>"
      ]
     },
     "metadata": {},
     "output_type": "display_data"
    }
   ],
   "source": [
    "# Applying 3 r moves in a row\n",
    "first_move = [initial_state[i] for i in r]\n",
    "print(first_move)\n",
    "second_move = [first_move[i] for i in r]\n",
    "print(second_move)\n",
    "third_move = [second_move[i] for i in r]\n",
    "print(third_move)\n",
    "\n",
    "# Re-plotting the initial state, the state after each move, and the solution state with smaller squares\n",
    "plot_state_squares(initial_state, \"Initial State\")\n",
    "plot_state_squares(first_move, \"After Move 'r'\")\n",
    "plot_state_squares(second_move, \"After Move 'r'\")\n",
    "plot_state_squares(third_move, \"After Move 'r'\")\n",
    "\n"
   ]
  },
  {
   "cell_type": "markdown",
   "metadata": {},
   "source": [
    "### Looking at the intial state and the solution state"
   ]
  },
  {
   "cell_type": "code",
   "execution_count": 16,
   "metadata": {},
   "outputs": [
    {
     "data": {
      "image/png": "[encoded data removed]",
      "text/plain": [
       "<Figure size 225x75 with 1 Axes>"
      ]
     },
     "metadata": {},
     "output_type": "display_data"
    },
    {
     "data": {
      "image/png": "[encoded data removed]",
      "text/plain": [
       "<Figure size 225x75 with 1 Axes>"
      ]
     },
     "metadata": {},
     "output_type": "display_data"
    }
   ],
   "source": [
    "# plot initial state\n",
    "plot_state_squares(initial_state, \"Initial State\")\n",
    "# plot solution state  \n",
    "plot_state_squares(solution_state, \"Solution State\")"
   ]
  },
  {
   "cell_type": "markdown",
   "metadata": {},
   "source": [
    "We can see that moving the puzzle one step to the right places the blue square in the correct position. After that, it is just a matter of switching the first 2 square (function ```s```). "
   ]
  },
  {
   "cell_type": "code",
   "execution_count": 18,
   "metadata": {},
   "outputs": [
    {
     "data": {
      "image/png": "[encoded data removed]",
      "text/plain": [
       "<Figure size 225x75 with 1 Axes>"
      ]
     },
     "metadata": {},
     "output_type": "display_data"
    },
    {
     "data": {
      "image/png": "[encoded data removed]",
      "text/plain": [
       "<Figure size 225x75 with 1 Axes>"
      ]
     },
     "metadata": {},
     "output_type": "display_data"
    },
    {
     "data": {
      "image/png": "[encoded data removed]",
      "text/plain": [
       "<Figure size 225x75 with 1 Axes>"
      ]
     },
     "metadata": {},
     "output_type": "display_data"
    },
    {
     "data": {
      "image/png": "[encoded data removed]",
      "text/plain": [
       "<Figure size 225x75 with 1 Axes>"
      ]
     },
     "metadata": {},
     "output_type": "display_data"
    },
    {
     "name": "stdout",
     "output_type": "stream",
     "text": [
      "Does second_move == solution_state?  True\n"
     ]
    }
   ],
   "source": [
    "# plot initial state\n",
    "plot_state_squares(initial_state, \"Initial State\")\n",
    "\n",
    "first_move = [initial_state[i] for i in r]\n",
    "plot_state_squares(first_move, \"After RIGHT move\")\n",
    "\n",
    "second_move = [first_move[i] for i in s]\n",
    "plot_state_squares(second_move, \"After SWAP move\")\n",
    "\n",
    "plot_state_squares(solution_state, \"Solution State\")\n",
    "\n",
    "print(\"Does second_move == solution_state? \", second_move == solution_state)"
   ]
  },
  {
   "cell_type": "markdown",
   "metadata": {},
   "source": [
    "Now I understand how a game state and a moves dictionary can be used to transition game states. I was a little confused about converting the state from a ```list``` to an ```np.array```. \n",
    "\n",
    "But it does simplify the transition because you can just input the array from the move dictionary to transition the state, i.e. ```initial_state_np[r]```. So this now makes some sense to me.\n",
    "\n",
    "This simplifies the syntax for state transitions, and transitions can be performed in sequence."
   ]
  },
  {
   "cell_type": "code",
   "execution_count": 35,
   "metadata": {},
   "outputs": [
    {
     "name": "stdout",
     "output_type": "stream",
     "text": [
      "initial_state = ['B' 'G' 'R']\n",
      "initial_state[r] = ['G' 'R' 'B']\n",
      "initial_state[r][r] = ['R' 'B' 'G']\n",
      "initial_state[r][s] = ['R' 'G' 'B']\n",
      "Does two_moves == solution_state? True\n"
     ]
    },
    {
     "data": {
      "image/png": "[encoded data removed]",
      "text/plain": [
       "<Figure size 225x75 with 1 Axes>"
      ]
     },
     "metadata": {},
     "output_type": "display_data"
    },
    {
     "data": {
      "image/png": "[encoded data removed]",
      "text/plain": [
       "<Figure size 225x75 with 1 Axes>"
      ]
     },
     "metadata": {},
     "output_type": "display_data"
    },
    {
     "data": {
      "image/png": "[encoded data removed]",
      "text/plain": [
       "<Figure size 225x75 with 1 Axes>"
      ]
     },
     "metadata": {},
     "output_type": "display_data"
    },
    {
     "data": {
      "image/png": "[encoded data removed]",
      "text/plain": [
       "<Figure size 225x75 with 1 Axes>"
      ]
     },
     "metadata": {},
     "output_type": "display_data"
    }
   ],
   "source": [
    "# convert initial_state to an np.array\n",
    "initial_state_np = np.array(initial_state)\n",
    "solution_state_np = np.array(solution_state)\n",
    "\n",
    "# reiterating the moves dictionary\n",
    "moves = {\n",
    "    'r': [1, 2, 0],\n",
    "    's': [1, 0, 2],\n",
    "}\n",
    "r = moves['r']\n",
    "s = moves['s']\n",
    "\n",
    "print(f\"initial_state = {initial_state_np}\")\n",
    "\n",
    "# apply 1 r move to initial state\n",
    "print(f\"initial_state[r] = {initial_state_np[r]}\")\n",
    "\n",
    "# apply 2 r moves to initial state\n",
    "print(f\"initial_state[r][r] = {initial_state_np[r][r]}\")\n",
    "\n",
    "# apply 1 r move followed by 1 s move to initial state\n",
    "two_moves = initial_state_np[r][s]\n",
    "print(f\"initial_state[r][s] = {two_moves}\")\n",
    "\n",
    "# check if two_moves is the same as solution_state for all positions\n",
    "result = (two_moves == solution_state_np).all()\n",
    "\n",
    "print(f\"Does two_moves == solution_state? {(two_moves == solution_state).all()}\")\n",
    "\n",
    "plot_state_squares(initial_state_np, \"Initial State\")\n",
    "plot_state_squares(initial_state_np[r], \"After RIGHT move\")\n",
    "plot_state_squares(initial_state_np[r][s], \"After RIGHT and SWAP moves\")\n",
    "plot_state_squares(solution_state, \"Solution State\")\n"
   ]
  },
  {
   "cell_type": "markdown",
   "metadata": {},
   "source": [
    "I'm still grappling with the concept of permutation arrays. While I can follow the logic when I'm actively working with them, it's challenging to keep a clear understanding in my mind.\n",
    "\n",
    "- **Permutation Array**: In a permutation array, each element specifies the new position of the element at that index. For example, consider `r = [1, 2, 0]`:\n",
    "    - Here, `r[0] = 1` implies that the first element in the transformed state takes its value from the second element in the initial state (since indexing starts at 0). So, if `initial_state[1]` is 'G', then `transformed_state[0]` will be 'G'.\n",
    "    - This concept is somewhat clear to me, but it still feels a bit perplexing at times.\n",
    "\n",
    "- **Inverse Permutation Array**: Applying `np.argsort(r)` to a permutation array `r` returns the indices that would sort the array. When used on a permutation array, `np.argsort(r)` yields the inverse permutation. This inverse indicates the final positions of the elements from the original array in their sorted order. \n",
    "\n",
    "I'm getting a grasp of these ideas, but I can't say I've fully internalized them just yet. 🤯😓\n"
   ]
  },
  {
   "cell_type": "code",
   "execution_count": 53,
   "metadata": {},
   "outputs": [
    {
     "name": "stdout",
     "output_type": "stream",
     "text": [
      "[1, 0, 2]\n",
      "[1, 0, 2]\n"
     ]
    },
    {
     "data": {
      "image/png": "[encoded data removed]",
      "text/plain": [
       "<Figure size 225x75 with 1 Axes>"
      ]
     },
     "metadata": {},
     "output_type": "display_data"
    },
    {
     "data": {
      "image/png": "[encoded data removed]",
      "text/plain": [
       "<Figure size 225x75 with 1 Axes>"
      ]
     },
     "metadata": {},
     "output_type": "display_data"
    },
    {
     "data": {
      "image/png": "[encoded data removed]",
      "text/plain": [
       "<Figure size 225x75 with 1 Axes>"
      ]
     },
     "metadata": {},
     "output_type": "display_data"
    }
   ],
   "source": [
    "r_inv = np.argsort(r).tolist()\n",
    "s_inv = np.argsort(s).tolist()\n",
    "\n",
    "# there is no inverse for the swap move\n",
    "print(s)\n",
    "print(s_inv)\n",
    "\n",
    "plot_state_squares(initial_state_np, \"Initial State\")\n",
    "plot_state_squares(initial_state_np[r], \"After RIGHT move\")\n",
    "plot_state_squares(initial_state_np[r_inv], \"After RIGHT Inverse move (AKA LEFT move)\")\n"
   ]
  },
  {
   "cell_type": "markdown",
   "metadata": {},
   "source": [
    "### Exploring SymPy and Permutations in Puzzle Solving\n",
    "\n",
    "- **Discovering SymPy**: The example notebook introduced the SymPy library, and it's quite fascinating. It specializes in symbolic computation, handling mathematical expressions as symbols rather than through numerical approximations. It's like translating emojis in math: 😀 + 🔥 equals 🥵! The library covers a broad spectrum, including algebra, calculus, discrete math, geometry, plotting, and even code generation. It's definitely on my list for deeper exploration.\n",
    "\n",
    "- **The `Permutation` Function**: The `Permutation` function in `sympy.combinatorics` seems helpful for solving these puzzles, where permutation operations are more intuitively expressed and computed using a specialized class.\n",
    "\n",
    "- **Applicability for Puzzles**: While the `Permutation` class might be excessive for simpler puzzles, it seems highly promising for tackling more complex challenges in my upcoming puzzle-solving endeavors.\n",
    "\n",
    "- **Understanding Disjoint Cycle Form**: The concept of \"disjoint cycle form\" in permutations is still a bit of a puzzle to me 🤔. From what I gather, it involves breaking down a sequence of moves into cycles that are independent of each other, streamlining the process of understanding and executing these moves.\n"
   ]
  },
  {
   "cell_type": "code",
   "execution_count": 56,
   "metadata": {},
   "outputs": [
    {
     "name": "stdout",
     "output_type": "stream",
     "text": [
      "r: (0 1 2) \tSends 0 -> 1, 1 -> 2, and 2 -> 0.\n",
      "s: (2)(0 1) \tSends 0 -> 1, 1 -> 0, and 2 stays fixed.\n",
      "Effect of r: ['G', 'R', 'B']\n",
      "Effect of s: ['G', 'B', 'R']\n"
     ]
    },
    {
     "data": {
      "image/png": "[encoded data removed]",
      "text/plain": [
       "<Figure size 225x75 with 1 Axes>"
      ]
     },
     "metadata": {},
     "output_type": "display_data"
    },
    {
     "data": {
      "image/png": "[encoded data removed]",
      "text/plain": [
       "<Figure size 225x75 with 1 Axes>"
      ]
     },
     "metadata": {},
     "output_type": "display_data"
    },
    {
     "data": {
      "image/png": "[encoded data removed]",
      "text/plain": [
       "<Figure size 225x75 with 1 Axes>"
      ]
     },
     "metadata": {},
     "output_type": "display_data"
    },
    {
     "data": {
      "image/png": "[encoded data removed]",
      "text/plain": [
       "<Figure size 225x75 with 1 Axes>"
      ]
     },
     "metadata": {},
     "output_type": "display_data"
    }
   ],
   "source": [
    "# reminder about the import call\n",
    "from sympy.combinatorics import Permutation\n",
    "\n",
    "# this is from the tutorial\n",
    "rp = Permutation(r)\n",
    "sp = Permutation(s)\n",
    "print('r:', rp, \"\\tSends 0 -> 1, 1 -> 2, and 2 -> 0.\")\n",
    "print('s:', sp, \"\\tSends 0 -> 1, 1 -> 0, and 2 stays fixed.\" )\n",
    "\n",
    "# A Permutation is a function which you can apply to a state with a function call\n",
    "print(\"Effect of r:\", rp(initial_state))\n",
    "print(\"Effect of s:\", sp(initial_state))\n",
    "\n",
    "plot_state_squares(initial_state, \"Initial State\")\n",
    "plot_state_squares(rp(initial_state), \"After RIGHT move using Permutation\")\n",
    "plot_state_squares(initial_state, \"Initial State\")\n",
    "plot_state_squares(sp(initial_state), \"After SWAP move using Permutation\")"
   ]
  },
  {
   "cell_type": "markdown",
   "metadata": {},
   "source": [
    "### Progress and Challenges with Understanding Permutations\n",
    "\n",
    "- **Current Understanding**: So far, I'm making progress (sort of) with understanding permutations. While there's more to learn, I'm able to follow along for the most part. \n",
    "\n",
    "- **Struggling with Inverse Permutations**: I'm encountering some difficulty in grasping why the inverse of a permutation is represented as the negative power of the function, like `rp_inv = rp ** -1`. \n",
    "\n",
    "    - **Permutation Function Basics**: A permutation function maps a set of elements to itself but in a different order. The inverse of this permutation effectively undoes this mapping, bringing the elements back to their original order.\n",
    "\n",
    "    - **Inverse Operations in SymPy**: In SymPy, the `Permutation` class facilitates inverse operations using the negative power notation. This approach is rooted in group theory in mathematics, where raising an element to a negative power is equivalent to finding its inverse in the group context."
   ]
  },
  {
   "cell_type": "code",
   "execution_count": 57,
   "metadata": {},
   "outputs": [
    {
     "data": {
      "image/png": "[encoded data removed]",
      "text/plain": [
       "<Figure size 225x75 with 1 Axes>"
      ]
     },
     "metadata": {},
     "output_type": "display_data"
    },
    {
     "data": {
      "image/png": "[encoded data removed]",
      "text/plain": [
       "<Figure size 225x75 with 1 Axes>"
      ]
     },
     "metadata": {},
     "output_type": "display_data"
    },
    {
     "data": {
      "image/png": "[encoded data removed]",
      "text/plain": [
       "<Figure size 225x75 with 1 Axes>"
      ]
     },
     "metadata": {},
     "output_type": "display_data"
    }
   ],
   "source": [
    "rp_inv = rp**-1\n",
    "sp_inv = sp**-1\n",
    "\n",
    "plot_state_squares(initial_state, \"Initial State\")\n",
    "next_state = rp(initial_state)\n",
    "plot_state_squares(next_state, \"After RIGHT move using Permutation\")\n",
    "return_state = rp_inv(next_state)\n",
    "plot_state_squares(return_state, \"After RIGHT Inverse move using Permutation\")"
   ]
  },
  {
   "cell_type": "markdown",
   "metadata": {},
   "source": [
    "## Exploring the 6x6 Wreath Puzzle\n",
    "\n",
    "### Initial Steps\n",
    "\n",
    "I'm now turning my attention to the **6x6 Wreath Puzzle**, as it appears to be one of the more approachable challenges. My initial focus will be on two key aspects:\n",
    "\n",
    "1. **Loading Puzzles**: Understanding how to import or load puzzles into my working environment. This is the first step in interacting with the puzzle data.\n",
    "\n",
    "2. **Loading Available Moves**: Figuring out how to access and comprehend the set of possible moves. This is crucial for devising strategies to solve the puzzle.\n",
    "\n",
    "### Visualization and Strategy Development\n",
    "\n",
    "- Once the puzzles and moves are loaded, the next step will be to explore ways to **visualize the wreath puzzle**. Visualization is a powerful tool to keep track of the moves and to understand the state of the puzzle at any given moment.\n",
    "\n",
    "- Additionally, visualization will aid in **evaluating the distance to the solution**. By having a clear picture of the puzzle's current state, I can better assess how close I am to solving it and adjust my strategies accordingly."
   ]
  },
  {
   "cell_type": "code",
   "execution_count": 94,
   "metadata": {},
   "outputs": [],
   "source": [
    "# local data_dir\n",
    "data_dir = Path(\"data\")\n",
    "\n",
    "puzzle_info = pd.read_csv(data_dir / 'puzzle_info.csv', index_col='puzzle_type')\n",
    "# Parse allowed_moves\n",
    "puzzle_info['allowed_moves'] = puzzle_info['allowed_moves'].apply(literal_eval)\n",
    "\n",
    "puzzles_all = pd.read_csv(data_dir / 'puzzles.csv', index_col='id')\n",
    "# Parse color states\n",
    "puzzles_all = puzzles_all.assign(\n",
    "    initial_state=lambda df: df['initial_state'].str.split(';'),\n",
    "    solution_state=lambda df: df['solution_state'].str.split(';')\n",
    ")"
   ]
  },
  {
   "cell_type": "code",
   "execution_count": 95,
   "metadata": {},
   "outputs": [
    {
     "name": "stdout",
     "output_type": "stream",
     "text": [
      "['l', 'r']\n"
     ]
    }
   ],
   "source": [
    "wreath_6_6_info = puzzle_info.loc['wreath_6/6', 'allowed_moves']\n",
    "# convert keys from wreath_6_6_info to a list\n",
    "wreath_6_6_moves = list(wreath_6_6_info.keys())\n",
    "print(wreath_6_6_moves)"
   ]
  },
  {
   "cell_type": "code",
   "execution_count": 102,
   "metadata": {},
   "outputs": [
    {
     "name": "stdout",
     "output_type": "stream",
     "text": [
      "{'l': [1, 2, 3, 4, 5, 0, 6, 7, 8, 9], 'r': [6, 1, 8, 3, 4, 5, 7, 2, 9, 0]}\n",
      "    puzzle_type                  solution_state  \\\n",
      "id                                                \n",
      "284  wreath_6/6  [C, A, C, A, A, A, B, B, B, B]   \n",
      "285  wreath_6/6  [C, A, C, A, A, A, B, B, B, B]   \n",
      "286  wreath_6/6  [C, A, C, A, A, A, B, B, B, B]   \n",
      "287  wreath_6/6  [C, A, C, A, A, A, B, B, B, B]   \n",
      "288  wreath_6/6  [C, A, C, A, A, A, B, B, B, B]   \n",
      "\n",
      "                      initial_state  num_wildcards  \n",
      "id                                                  \n",
      "284  [A, A, A, A, B, C, B, C, B, B]              0  \n",
      "285  [B, A, B, A, B, A, C, A, B, C]              2  \n",
      "286  [A, B, C, A, A, C, B, B, B, A]              2  \n",
      "287  [B, C, B, C, A, A, B, A, B, A]              2  \n",
      "288  [A, A, C, B, C, A, B, B, A, B]              0  \n"
     ]
    }
   ],
   "source": [
    "# Extracting info for 'wreath_6/6' puzzles\n",
    "wreath_6_6_moves_dict = puzzle_info.loc['wreath_6/6', 'allowed_moves']\n",
    "moves = list(wreath_6_6_moves_dict.keys())\n",
    "\n",
    "wreath_6_6_puzzles = puzzles_all[puzzles_all['puzzle_type'] == 'wreath_6/6']\n",
    "# get a list of loc indices for wreath_6/6 puzzles\n",
    "wreath_6_6_idx = wreath_6_6_puzzles.index.tolist()\n",
    "\n",
    "\n",
    "\n",
    "# Now you can access the allowed moves for 'wreath_6/6' using the dictionary\n",
    "# For example:\n",
    "print(allowed_moves_dict['wreath_6/6'])\n",
    "\n",
    "# And you have the wreath_6_6_puzzles DataFrame containing all puzzles of this type\n",
    "print(wreath_6_6_puzzles.head())"
   ]
  },
  {
   "cell_type": "markdown",
   "metadata": {},
   "source": [
    "## Challenges in Visualizing the Puzzle\n",
    "\n",
    "### Current Approach\n",
    "\n",
    "The current code is designed to visualize the puzzle as two rings (left and right), each with the capability of independent rotation, and sharing two common points. This model attempts to reflect the mechanics of the puzzle's movement.\n",
    "\n",
    "### Issues Encountered\n",
    "\n",
    "However, upon closer examination of the permutations `l` and `r`, several discrepancies have emerged:\n",
    "\n",
    "- **L-Permutation Complexity**:\n",
    "  - The `l-permutation` seems to only affect the early elements in the puzzle. This observation suggests a simpler pattern of movement than initially thought.\n",
    "\n",
    "- **R-Permutation Complexity**:\n",
    "  - Conversely, the `r-permutation` appears to induce more complex changes. These changes aren't adequately represented by the current model of two independently rotating rings with two shared points.\n",
    "\n",
    "### Next Steps\n",
    "\n",
    "- At this point, the path forward for the visualization is unclear. The simplistic model does not capture the intricacies revealed by the permutations.\n",
    "- A deeper analysis or a different approach to modeling might be necessary to develop a more accurate visualization of the puzzle dynamics."
   ]
  },
  {
   "cell_type": "code",
   "execution_count": 103,
   "metadata": {},
   "outputs": [
    {
     "name": "stdout",
     "output_type": "stream",
     "text": [
      "Initial State:\n",
      "   A   A      C   B\n",
      "A         C          B\n",
      "     l          r\n",
      "B         B          A\n",
      "   C   B     C  B\n",
      "---------------------------------------------\n",
      "Solution State:\n",
      "   A   C      B   B\n",
      "C         A          B\n",
      "     l          r\n",
      "A         B          A\n",
      "   A   B     B  B\n"
     ]
    }
   ],
   "source": [
    "def print_wreath_puzzle(state):\n",
    "    \"\"\"\n",
    "    Print a text-based visualization of the wreath_6/6 puzzle.\n",
    "\n",
    "    :param state: List representing the state of each point on the wreath puzzle (10 elements).\n",
    "    \"\"\"\n",
    "    # Ensuring the state has 10 elements\n",
    "    if len(state) != 10:\n",
    "        raise ValueError(\"State must have 10 elements.\")\n",
    "\n",
    "    # Constructing the layout\n",
    "    # Note: Points at index 5 and 6 are the common points between the two rings\n",
    "\"\"\"     layout = [\n",
    "        f\"   {state[1]}   {state[2]}      {state[7]}   {state[8]}\",\n",
    "        f\"{state[0]}         {state[5]}          {state[9]}\",\n",
    "        \"     l          r\",\n",
    "        f\"{state[4]}         {state[6]}          {state[3]}\",\n",
    "        f\"   {state[5]}   {state[6]}     {state[7]}  {state[8]}\"\n",
    "    ] \"\"\"\n",
    "\n",
    "    layout = [\n",
    "        f\"         {state[4]}      {state[7]}   {state[8]}\",\n",
    "        f\"{state[3]}         {state[5]}          {state[9]}\",\n",
    "        \"     l          r\",\n",
    "        f\"{state[2]}         {state[6]}          {state[3]}\",\n",
    "        f\"   {state[0]}   {state[6]}     {state[7]}  {state[8]}\"\n",
    "    ]\n",
    "\n",
    "    # Printing the layout\n",
    "    for line in layout:\n",
    "        print(line)\n",
    "\n",
    "# get first puzzle index\n",
    "idx = wreath_6_6_idx[0]\n",
    "puzzle_initial = wreath_6_6_puzzles.loc[idx, 'initial_state']\n",
    "puzzle_solution = wreath_6_6_puzzles.loc[idx, 'solution_state']\n",
    "\n",
    "print(\"Initial State:\")\n",
    "print_wreath_puzzle(puzzle_initial)\n",
    "print(f\"{'-'*45}\\nSolution State:\")\n",
    "print_wreath_puzzle(puzzle_solution)\n"
   ]
  },
  {
   "cell_type": "code",
   "execution_count": 108,
   "metadata": {},
   "outputs": [
    {
     "name": "stdout",
     "output_type": "stream",
     "text": [
      "Initial State list:\n",
      "['A', 'A', 'A', 'A', 'B', 'C', 'B', 'C', 'B', 'B']\n",
      "---------------------------------------------\n",
      "Initial State:\n",
      "   A   A      C   B\n",
      "A         C          B\n",
      "     l          r\n",
      "B         B          A\n",
      "   C   B     C  B\n",
      "---------------------------------------------\n",
      "After l move:\n",
      "['A', 'A', 'A', 'B', 'C', 'A', 'B', 'C', 'B', 'B']\n",
      "---------------------------------------------\n",
      "   A   A      C   B\n",
      "A         A          B\n",
      "     l          r\n",
      "C         B          B\n",
      "   A   B     C  B\n"
     ]
    }
   ],
   "source": [
    "# start turning the puzzle with a call to l\n",
    "puzzle_state = puzzle_initial.copy()\n",
    "l = Permutation(wreath_6_6_moves_dict['l'])\n",
    "r = Permutation(wreath_6_6_moves_dict['r'])\n",
    "\n",
    "print('Initial State list:')\n",
    "print(puzzle_state)\n",
    "print(f\"{'-'*45}\")\n",
    "print(\"Initial State:\")\n",
    "print_wreath_puzzle(puzzle_state)\n",
    "print(f\"{'-'*45}\")\n",
    "puzzle_state = l(puzzle_state)\n",
    "print(\"After l move:\")\n",
    "print(puzzle_state)\n",
    "print(f\"{'-'*45}\")\n",
    "print_wreath_puzzle(puzzle_state)\n"
   ]
  },
  {
   "cell_type": "markdown",
   "metadata": {},
   "source": [
    "## Reassessing the Approach to the Wreath Puzzle\n",
    "\n",
    "### Decision on Visualization\n",
    "\n",
    "After considering the challenges and complexities mentioned earlier, I have decided to **abandon the attempt to create a visualization** for the wreath puzzle. The intricacies involved in accurately representing the puzzle's movements exceed the capabilities of the simplistic model initially proposed.\n",
    "\n",
    "### Exploring Heuristic Approaches for Solving the Puzzle\n",
    "\n",
    "In lieu of visualization, my focus shifts toward identifying an effective heuristic method for solving the puzzle:\n",
    "\n",
    "- **Potential Search Algorithms**:\n",
    "  - Preliminary research suggests that algorithms like **A\\* (A-Star)** or **Greedy Best-First Search** might be suitable starting points.\n",
    "\n",
    "- **Considering Heuristic Options**:\n",
    "  - Two heuristic approaches under consideration are the **Hamming distance** and the **Manhattan distance**.\n",
    "  - **Hamming Distance**: This method involves counting the number of positions in which the current state differs from the solution state. It's seemingly the more straightforward approach.\n",
    "  - **Manhattan Distance**: Calculating the Manhattan distance appears to be more challenging and potentially less feasible for this specific problem.\n",
    "\n",
    "### Moving Forward\n",
    "\n",
    "The next steps will involve a deeper exploration into these heuristic methods, assessing their suitability and efficacy in tackling the wreath puzzle's complexities.\n"
   ]
  },
  {
   "cell_type": "code",
   "execution_count": null,
   "metadata": {},
   "outputs": [],
   "source": []
  }
 ],
 "metadata": {
  "kernelspec": {
   "display_name": "2023_12_KagglePolytopePerm",
   "language": "python",
   "name": "python3"
  },
  "language_info": {
   "codemirror_mode": {
    "name": "ipython",
    "version": 3
   },
   "file_extension": ".py",
   "mimetype": "text/x-python",
   "name": "python",
   "nbconvert_exporter": "python",
   "pygments_lexer": "ipython3",
   "version": "3.11.5"
  }
 },
 "nbformat": 4,
 "nbformat_minor": 2
}
